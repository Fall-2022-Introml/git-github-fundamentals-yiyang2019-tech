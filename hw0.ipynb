{
  "nbformat": 4,
  "nbformat_minor": 0,
  "metadata": {
    "colab": {
      "provenance": []
    },
    "kernelspec": {
      "name": "python3",
      "display_name": "Python 3"
    },
    "language_info": {
      "name": "python"
    }
  },
  "cells": [
    {
      "cell_type": "markdown",
      "source": [
        "#HW0 Hello World"
      ],
      "metadata": {
        "id": "20iAbTI4aCyQ"
      }
    },
    {
      "cell_type": "code",
      "execution_count": 2,
      "metadata": {
        "colab": {
          "base_uri": "https://localhost:8080/"
        },
        "id": "At1eG20-aCKq",
        "outputId": "389799ec-bf68-49db-a6eb-0fe97406b9b1"
      },
      "outputs": [
        {
          "output_type": "stream",
          "name": "stdout",
          "text": [
            "Hello World\n",
            "a: 1\n"
          ]
        }
      ],
      "source": [
        "print(\"Hello World\")\n",
        "a=0\n",
        "a=a+1\n",
        "print(\"a:\", a)"
      ]
    }
  ]
}